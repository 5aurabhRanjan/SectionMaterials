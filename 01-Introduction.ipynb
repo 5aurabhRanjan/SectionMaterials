{
 "cells": [
  {
   "cell_type": "markdown",
   "metadata": {
    "collapsed": true,
    "nbpresent": {
     "id": "7fc0cefe-8b1c-4ca9-aa39-094614969842"
    }
   },
   "source": [
    "<center> <h1> Hands-On Data Science </h1> </center>\n",
    "\n",
    "\n",
    "Words, words, words\n",
    "\n",
    "\n",
    "\n",
    "\n",
    "\n",
    "<hr>"
   ]
  },
  {
   "cell_type": "markdown",
   "metadata": {
    "nbpresent": {
     "id": "0f4dd046-4020-465c-85f6-3d92ac9fe145"
    }
   },
   "source": [
    "![jupyter](img/jupyter.png)\n",
    "\n",
    "<div class=\"alert alert-success\">\n",
    "Jupyter notebooks are a way to intermix code, outputs and plain text. \n",
    "They run in a web browser, and connect to a kernel to be able to execute code. \n",
    "</div>\n",
    "\n",
    "<div class=\"alert alert-info\">\n",
    "Link to more information about Project Jupyter: http://jupyter.org\n",
    "</div>\n",
    "\n",
    "<hr>"
   ]
  },
  {
   "cell_type": "markdown",
   "metadata": {
    "nbpresent": {
     "id": "b57ed03a-8c01-4e48-95e8-9c6753e35088"
    }
   },
   "source": [
    "![title](img/NBViewer.png)\n",
    "\n",
    "<div class=\"alert alert-success\">\n",
    "Notebooks can be rendered on webpages, and shared with others. NBViewer is a tool to host and render notebooks.\n",
    "</div>\n",
    "\n",
    "<div class=\"alert alert-info\">\n",
    "Explore available notebook on NBViewer: https://nbviewer.jupyter.org/\n",
    "</div>\n",
    "\n",
    "<hr>"
   ]
  },
  {
   "cell_type": "markdown",
   "metadata": {
    "nbpresent": {
     "id": "b6153143-e694-4e86-96b0-243f56bad8d5"
    }
   },
   "source": [
    "<center> <h1> What do you need for this class? </h1> </center>"
   ]
  },
  {
   "cell_type": "markdown",
   "metadata": {},
   "source": [
    "## Software\n",
    "- Working install of python3, ideally with the anaconda distribution\n",
    "- Jupyter Notebooks\n",
    "- git"
   ]
  },
  {
   "cell_type": "markdown",
   "metadata": {},
   "source": [
    "## Accounts\n",
    "- TritonED\n",
    "- Github\n",
    "- Piazza"
   ]
  },
  {
   "cell_type": "markdown",
   "metadata": {},
   "source": [
    "## Skills\n",
    "This class assumes some basic knowledge of programming, ideally with Python. "
   ]
  },
  {
   "cell_type": "markdown",
   "metadata": {},
   "source": [
    "## Computational Resources\n",
    "- \n",
    "\n",
    "<hr>"
   ]
  },
  {
   "cell_type": "markdown",
   "metadata": {
    "nbpresent": {
     "id": "a0fd64ab-0202-4900-8e6d-155c29c2e750"
    }
   },
   "source": [
    "![anaconda](img/anaconda.png)\n",
    "\n",
    "<div class=\"alert alert-success\">\n",
    "Anaconda \n",
    "</div>\n",
    "\n",
    "<div class=\"alert alert-info\">\n",
    "Follow instructions to get the Anaconda Python distribution here: https://www.continuum.io/downloads\n",
    "</div>\n",
    "\n",
    "Notes\n",
    "-----\n",
    "If you are on Mac, you have a native installation of python. However, \n",
    "On Windows\n",
    "If you are using \n",
    "\n",
    "\n"
   ]
  },
  {
   "cell_type": "code",
   "execution_count": 4,
   "metadata": {
    "collapsed": true
   },
   "outputs": [],
   "source": [
    "## git "
   ]
  },
  {
   "cell_type": "markdown",
   "metadata": {
    "nbpresent": {
     "id": "6576af9c-b0f3-4cbe-9a02-06feaa61d0b0"
    }
   },
   "source": [
    "## git & Github \n",
    "\n",
    "Git and Github are not the same thing. Git is a tool, a software package, for version control. Github is an online hosting service and web-based version of git. In practice, they almosy always go together - git as a tool to version control local code with repositories that are stored on Github. \n",
    "\n",
    "<div class=\"alert alert-info\">\n",
    "Create a Github account: https://github.com/\n",
    "</div>\n",
    "\n",
    "<div class=\"alert alert-info\">\n",
    "Install git: https://git-scm.com/book/en/v2/Getting-Started-Installing-Git\n",
    "</div>"
   ]
  },
  {
   "cell_type": "markdown",
   "metadata": {},
   "source": [
    "# Source Tree \n",
    "\n",
    "![sourcetree](img/sourcetree.png)\n",
    "\n",
    "<div class=\"alert alert-sucess\">\n",
    "Source Tree is a free \n",
    "</div>\n",
    "\n",
    "<div class=\"alert alert-info\">\n",
    "Download Source Tree: https://www.sourcetreeapp.com/\n",
    "</div>\n",
    "\n"
   ]
  },
  {
   "cell_type": "markdown",
   "metadata": {
    "nbpresent": {
     "id": "fac119b1-c77c-4bc1-abea-6c2d76fc5102"
    }
   },
   "source": [
    "## Jupyter Notebooks\n",
    "\n",
    "Jupyter is \n",
    "\n",
    "Information on project Jupyter:\n",
    "- http://jupyter.org/"
   ]
  },
  {
   "cell_type": "code",
   "execution_count": null,
   "metadata": {
    "collapsed": true
   },
   "outputs": [],
   "source": []
  },
  {
   "cell_type": "code",
   "execution_count": null,
   "metadata": {
    "collapsed": true
   },
   "outputs": [],
   "source": []
  },
  {
   "cell_type": "markdown",
   "metadata": {},
   "source": [
    "<center><h1> Environments </h1><center>\n",
    "<br>\n",
    "<div class=\"alert alert-success\">\n",
    "You can also use environments to have multiple, independent installations of python, that wont interfere with each other. \n",
    "</div>\n",
    "\n",
    "\n",
    "<div class=\"alert alert-info\">\n",
    "Using environments with Anaconda: https://conda.io/docs/using/envs.html\n",
    "</div>"
   ]
  },
  {
   "cell_type": "markdown",
   "metadata": {},
   "source": []
  },
  {
   "cell_type": "markdown",
   "metadata": {},
   "source": [
    "\n",
    "\n"
   ]
  },
  {
   "cell_type": "code",
   "execution_count": null,
   "metadata": {
    "collapsed": true
   },
   "outputs": [],
   "source": []
  }
 ],
 "metadata": {
  "anaconda-cloud": {},
  "kernelspec": {
   "display_name": "Python [conda env:py35]",
   "language": "python",
   "name": "conda-env-py35-py"
  },
  "language_info": {
   "codemirror_mode": {
    "name": "ipython",
    "version": 3
   },
   "file_extension": ".py",
   "mimetype": "text/x-python",
   "name": "python",
   "nbconvert_exporter": "python",
   "pygments_lexer": "ipython3",
   "version": "3.5.2"
  },
  "nbpresent": {
   "slides": {
    "3d09dc46-88c8-44cb-bc57-259db78a0e70": {
     "id": "3d09dc46-88c8-44cb-bc57-259db78a0e70",
     "prev": "8d1b5def-2290-42c9-8b06-1c6e0e495521",
     "regions": {
      "4601423d-c94d-46da-885b-fe33b0216c22": {
       "attrs": {
        "height": 1,
        "width": 1,
        "x": 0,
        "y": 0
       },
       "content": {
        "cell": "0f4dd046-4020-465c-85f6-3d92ac9fe145",
        "part": "whole"
       },
       "id": "4601423d-c94d-46da-885b-fe33b0216c22"
      }
     }
    },
    "8d1b5def-2290-42c9-8b06-1c6e0e495521": {
     "id": "8d1b5def-2290-42c9-8b06-1c6e0e495521",
     "prev": "bc666852-d015-42a1-b679-eaf92d5eb643",
     "regions": {
      "d0118c2f-7757-4efa-a276-96f162d312ae": {
       "attrs": {
        "height": 1,
        "width": 1,
        "x": 0,
        "y": 0
       },
       "content": {
        "cell": "d9d878d6-230b-4f1e-b2aa-2f152cb3fe8e",
        "part": "whole"
       },
       "id": "d0118c2f-7757-4efa-a276-96f162d312ae"
      }
     }
    },
    "b039dd05-8357-462a-9525-7f8103de436c": {
     "id": "b039dd05-8357-462a-9525-7f8103de436c",
     "prev": "3d09dc46-88c8-44cb-bc57-259db78a0e70",
     "regions": {
      "9180ab3f-f784-45a2-b2cc-a18aad800fc5": {
       "attrs": {
        "height": 1,
        "width": 1,
        "x": 0,
        "y": 0
       },
       "content": {
        "cell": "b57ed03a-8c01-4e48-95e8-9c6753e35088",
        "part": "whole"
       },
       "id": "9180ab3f-f784-45a2-b2cc-a18aad800fc5"
      }
     }
    },
    "bc666852-d015-42a1-b679-eaf92d5eb643": {
     "id": "bc666852-d015-42a1-b679-eaf92d5eb643",
     "layout": "grid",
     "prev": null,
     "regions": {
      "31cd776f-cc93-49d6-a40c-c590805cfb8f": {
       "attrs": {
        "height": 0.8333333333333334,
        "pad": 0.01,
        "width": 0.8333333333333334,
        "x": 0.08333333333333333,
        "y": 0.08333333333333333
       },
       "content": {
        "cell": "7fc0cefe-8b1c-4ca9-aa39-094614969842",
        "part": "whole"
       },
       "id": "31cd776f-cc93-49d6-a40c-c590805cfb8f"
      },
      "e1612c29-0f61-4692-9d6e-112e8d378e46": {
       "attrs": {
        "height": 0.8333333333333334,
        "pad": 0.01,
        "width": 0.8333333333333334,
        "x": 0.08333333333333333,
        "y": 0.08333333333333333
       },
       "content": {
        "cell": "7fc0cefe-8b1c-4ca9-aa39-094614969842",
        "part": "whole"
       },
       "id": "e1612c29-0f61-4692-9d6e-112e8d378e46"
      }
     }
    }
   },
   "themes": {}
  }
 },
 "nbformat": 4,
 "nbformat_minor": 1
}
