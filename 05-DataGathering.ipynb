{
 "cells": [
  {
   "cell_type": "markdown",
   "metadata": {},
   "source": [
    "<center><h1> Data Gathering </h1></center>"
   ]
  },
  {
   "cell_type": "markdown",
   "metadata": {},
   "source": [
    "<div class=\"alert alert-success\">\n",
    "Data Gathering is simply the process of collecting your data together. It can encompass anything from launching a data collection project, web scraping, pulling from a database, downloading data in bulk, to actually calling someone to ask if you can use some of their data. \n",
    "</div>"
   ]
  },
  {
   "cell_type": "markdown",
   "metadata": {},
   "source": [
    "## Data Repositories\n",
    "<br>\n",
    "<div class=\"alert alert-success\">\n",
    "A Data Repository is \n",
    "</div>\n",
    "\n",
    "<div class=\"alert alert-info\">\n",
    "A good list of available data repositories: http://www.kdnuggets.com/datasets/index.html\n",
    "</div>"
   ]
  },
  {
   "cell_type": "markdown",
   "metadata": {},
   "source": [
    "### DATA.GOV\n",
    "<br>\n",
    "<div class=\"alert alert-success\">\n",
    "Data.gov \n",
    "</div>\n",
    "\n",
    "<div class=\"alert alert-info\">\n",
    "Check out what data is available on data.gov here: https://www.data.gov/\n",
    "</div>"
   ]
  },
  {
   "cell_type": "markdown",
   "metadata": {
    "collapsed": true
   },
   "source": [
    "<br>\n",
    "<img src=\"img/data_gov.png\" alt=\"gov_dat\" height=\"500\" width=\"750\">\n",
    "<br>"
   ]
  },
  {
   "cell_type": "markdown",
   "metadata": {},
   "source": [
    "### San Diego City Data\n",
    "<br>\n",
    "<div class=\"alert alert-success\">\n",
    "The City of San Diego also \n",
    "</div>\n",
    "\n",
    "<div class=\"alert alert-info\">\n",
    "Check out what data is available from the city of San Diego here: https://data.sandiego.gov/\n",
    "</div>\n",
    "\n",
    "\n"
   ]
  },
  {
   "cell_type": "markdown",
   "metadata": {},
   "source": [
    "<br>\n",
    "<img src=\"img/sd_data.png\" alt=\"sd_dat\" height=\"500\" width=\"750\">\n",
    "<br>"
   ]
  },
  {
   "cell_type": "markdown",
   "metadata": {},
   "source": [
    "## Databases\n",
    "<br>\n",
    "<div class=\"alert alert-success\">\n",
    "A database is an organized collection of data. More formally, 'database' refers to a set of related data, and the way it is organized. \n",
    "</div>\n"
   ]
  },
  {
   "cell_type": "markdown",
   "metadata": {},
   "source": [
    "### Structured Query Language - SQL\n",
    "<br>\n",
    "<div class=\"alert alert-success\">\n",
    "Words\n",
    "</div>\n",
    "\n",
    "<div class=\"alert alert-info\">\n",
    "Link: \n",
    "</div>"
   ]
  },
  {
   "cell_type": "markdown",
   "metadata": {},
   "source": [
    "## Application Program Interfaces (APIs)\n",
    "<br>\n",
    "<div class=\"alert alert-success\">\n",
    "APIs are basically a way for software to talk to software - it is an interface into an application / website / database designed for computers / software.\n",
    "</div>"
   ]
  },
  {
   "cell_type": "code",
   "execution_count": null,
   "metadata": {
    "collapsed": true
   },
   "outputs": [],
   "source": []
  },
  {
   "cell_type": "markdown",
   "metadata": {},
   "source": [
    "## Web Scraping\n",
    "<br>\n",
    "<div class=\"alert alert-success\">\n",
    "Words\n",
    "</div>\n",
    "\n",
    "<div class=\"alert alert-info\">\n",
    "Link: \n",
    "</div>"
   ]
  },
  {
   "cell_type": "code",
   "execution_count": null,
   "metadata": {
    "collapsed": true
   },
   "outputs": [],
   "source": []
  },
  {
   "cell_type": "code",
   "execution_count": null,
   "metadata": {
    "collapsed": true
   },
   "outputs": [],
   "source": []
  }
 ],
 "metadata": {
  "anaconda-cloud": {},
  "kernelspec": {
   "display_name": "Python 3",
   "language": "python",
   "name": "python3"
  },
  "language_info": {
   "codemirror_mode": {
    "name": "ipython",
    "version": 3
   },
   "file_extension": ".py",
   "mimetype": "text/x-python",
   "name": "python",
   "nbconvert_exporter": "python",
   "pygments_lexer": "ipython3",
   "version": "3.6.0"
  }
 },
 "nbformat": 4,
 "nbformat_minor": 1
}
