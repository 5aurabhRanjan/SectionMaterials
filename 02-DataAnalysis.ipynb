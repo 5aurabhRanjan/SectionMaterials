{
 "cells": [
  {
   "cell_type": "markdown",
   "metadata": {},
   "source": [
    "<center><h1> Data Analysis"
   ]
  },
  {
   "cell_type": "markdown",
   "metadata": {
    "collapsed": true
   },
   "source": [
    "<center> Data Science, at it's core, is process of analyzing data (about something) in order to help us classify the data, make predictions about future data, and potential to discover new knowdledge about the data and the phenomena they represent. </center>"
   ]
  },
  {
   "cell_type": "code",
   "execution_count": 139,
   "metadata": {
    "collapsed": true
   },
   "outputs": [],
   "source": [
    "%matplotlib inline\n",
    "\n",
    "# Import matplotlib and numpy for some quick examples\n",
    "import matplotlib.pyplot as plt\n",
    "import numpy as np"
   ]
  },
  {
   "cell_type": "markdown",
   "metadata": {
    "collapsed": true
   },
   "source": [
    "<center><h1> Prediction </h1></center>\n",
    "<br>\n",
    "<div class=\"alert alert-success\">\n",
    "Prediction is the use of current (training) data to make predictions about future observations.\n",
    "</div>\n",
    "<br>\n",
    "<div class=\"alert alert-info\">\n",
    "Optional reading on [prediction in data science](https://www.archive.nyu.edu/bitstream/2451/31635/2/data_science_and_prediction_dhar.pdf).\n",
    "</div>"
   ]
  },
  {
   "cell_type": "code",
   "execution_count": 140,
   "metadata": {
    "collapsed": false
   },
   "outputs": [],
   "source": [
    "# Let's say we wanted to predict dogs weight, from their length. \n",
    "#  Maybe it's easier to use a tape measure than to get a dog onto a scale. \n",
    "lengths = [75, 50, 90, 115]    # cm's\n",
    "weights = [17.5, 10, 18, 20]   # kg's"
   ]
  },
  {
   "cell_type": "code",
   "execution_count": 141,
   "metadata": {
    "collapsed": false
   },
   "outputs": [
    {
     "data": {
      "image/png": "[encoded data removed]",
      "text/plain": [
       "<matplotlib.figure.Figure at 0x10fe16c88>"
      ]
     },
     "metadata": {},
     "output_type": "display_data"
    }
   ],
   "source": [
    "# Always visualize your data!\n",
    "f, ax = plt.subplots()\n",
    "ax.plot(lengths, weights , '.')\n",
    "plt.xlabel('Length (cm)'); plt.xlim([30, 125]);\n",
    "plt.ylabel('Weight (kg)'); plt.ylim([5, 25]);"
   ]
  },
  {
   "cell_type": "code",
   "execution_count": 142,
   "metadata": {
    "collapsed": false
   },
   "outputs": [],
   "source": [
    "# Polyfit (degree=1) will fit a linear fit to the data, of the form y = ax + b\n",
    "a, b = np.polyfit(lengths, weights, 1)"
   ]
  },
  {
   "cell_type": "code",
   "execution_count": 143,
   "metadata": {
    "collapsed": false
   },
   "outputs": [
    {
     "name": "stdout",
     "output_type": "stream",
     "text": [
      "Predicted weight for a new data point, weight  is 13.3460674157\n"
     ]
    }
   ],
   "source": [
    "# So now we can predict the weight of a new observation (a new dog)\n",
    "new_length = 62\n",
    "pred_weight = a * new_length + b \n",
    "print('Predicted weight for a new data point, weight  is', pred_weight)"
   ]
  },
  {
   "cell_type": "code",
   "execution_count": 144,
   "metadata": {
    "collapsed": false
   },
   "outputs": [
    {
     "data": {
      "image/png": "[encoded data removed]",
      "text/plain": [
       "<matplotlib.figure.Figure at 0x10fe16c88>"
      ]
     },
     "execution_count": 144,
     "metadata": {},
     "output_type": "execute_result"
    }
   ],
   "source": [
    "# We can check how our prediction fits in with the data we observed\n",
    "ax.plot(new_length, pred_weight, '.r')\n",
    "f"
   ]
  },
  {
   "cell_type": "code",
   "execution_count": 145,
   "metadata": {
    "collapsed": false
   },
   "outputs": [
    {
     "name": "stdout",
     "output_type": "stream",
     "text": [
      "The (absolute) error of our prediction is 1.35393258427 kg's.\n"
     ]
    }
   ],
   "source": [
    "# If we also happen to now the true weight of our \n",
    "actual_weight = 14.7\n",
    "error = actual_weight - pred_weight\n",
    "\n",
    "print('The (absolute) error of our prediction is', str(error), 'kg\\'s.')"
   ]
  },
  {
   "cell_type": "markdown",
   "metadata": {},
   "source": [
    "How we go about making predictions gets more complicated, as we deal with large, messy data with more variables of various 'shapes'. Fundamentally, though, it comes down to the same process: what can we learn from a set of data, such that, given a new peice of data, we can make predictions about it. \n",
    "<hr>"
   ]
  },
  {
   "cell_type": "markdown",
   "metadata": {},
   "source": [
    "<center><h1> Classification </h1></center>\n",
    "<br>\n",
    "<div class=\"alert alert-success\">\n",
    "Classification is the process of trying to discover a systematic organization of data. \n",
    "</div>\n",
    "<br>\n",
    "<div class=\"alert alert-info\">\n",
    "Reading: ?\n",
    "</div>"
   ]
  },
  {
   "cell_type": "code",
   "execution_count": 146,
   "metadata": {
    "collapsed": true
   },
   "outputs": [],
   "source": [
    "# TODO: Really simple classifcation example."
   ]
  },
  {
   "cell_type": "markdown",
   "metadata": {},
   "source": [
    "<center><h1> Knowledge Discovery </h1></center>\n",
    "<br>\n",
    "<div class=\"alert alert-success\">\n",
    "Knowledge Discovery is the attempt to learn new things about the world from data. It can be done a many ways. \n",
    "</div>\n",
    "<br>\n",
    "<div class=\"alert alert-info\">\n",
    "An example of this, as discussed in lecture, is Brain-SCANR: http://www.brainscanr.com/\n",
    "</div>"
   ]
  }
 ],
 "metadata": {
  "anaconda-cloud": {},
  "kernelspec": {
   "display_name": "Python [conda env:py35]",
   "language": "python",
   "name": "conda-env-py35-py"
  },
  "language_info": {
   "codemirror_mode": {
    "name": "ipython",
    "version": 3
   },
   "file_extension": ".py",
   "mimetype": "text/x-python",
   "name": "python",
   "nbconvert_exporter": "python",
   "pygments_lexer": "ipython3",
   "version": "3.5.2"
  }
 },
 "nbformat": 4,
 "nbformat_minor": 1
}
